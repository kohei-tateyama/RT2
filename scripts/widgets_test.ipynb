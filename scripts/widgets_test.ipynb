{
 "cells": [
  {
   "cell_type": "code",
   "execution_count": 10,
   "id": "7f8394a2-1f6c-4aab-be08-b1591e1c73b7",
   "metadata": {
    "execution": {
     "iopub.execute_input": "2024-05-27T16:54:42.049451Z",
     "iopub.status.busy": "2024-05-27T16:54:42.049276Z",
     "iopub.status.idle": "2024-05-27T16:54:42.109609Z",
     "shell.execute_reply": "2024-05-27T16:54:42.065090Z",
     "shell.execute_reply.started": "2024-05-27T16:54:42.049439Z"
    }
   },
   "outputs": [],
   "source": []
  },
  {
   "cell_type": "code",
   "execution_count": 11,
   "id": "45b65fdb-2706-467b-ae4d-88880f9bc54c",
   "metadata": {
    "execution": {
     "iopub.execute_input": "2024-05-27T16:54:42.213641Z",
     "iopub.status.busy": "2024-05-27T16:54:42.212699Z",
     "iopub.status.idle": "2024-05-27T16:54:42.243376Z",
     "shell.execute_reply": "2024-05-27T16:54:42.242209Z",
     "shell.execute_reply.started": "2024-05-27T16:54:42.213597Z"
    }
   },
   "outputs": [
    {
     "data": {
      "application/vnd.jupyter.widget-view+json": {
       "model_id": "43c2970251dd4d629a97603b425abb14",
       "version_major": 2,
       "version_minor": 0
      },
      "text/plain": [
       "IntSlider(value=0)"
      ]
     },
     "metadata": {},
     "output_type": "display_data"
    },
    {
     "data": {
      "application/vnd.jupyter.widget-view+json": {
       "model_id": "58e218b014a34e3ba067ce49e65ad3e7",
       "version_major": 2,
       "version_minor": 0
      },
      "text/plain": [
       "FloatText(value=7.5)"
      ]
     },
     "execution_count": 11,
     "metadata": {},
     "output_type": "execute_result"
    }
   ],
   "source": [
    "w = widgets.IntSlider() \n",
    "display(w)\n",
    "widgets.FloatText(value=7.5)"
   ]
  },
  {
   "cell_type": "code",
   "execution_count": 12,
   "id": "e9f2cd77-0a27-45de-91d3-7f5b0f571dff",
   "metadata": {
    "execution": {
     "iopub.execute_input": "2024-05-27T16:54:42.361724Z",
     "iopub.status.busy": "2024-05-27T16:54:42.361575Z",
     "iopub.status.idle": "2024-05-27T16:54:42.369588Z",
     "shell.execute_reply": "2024-05-27T16:54:42.368209Z",
     "shell.execute_reply.started": "2024-05-27T16:54:42.361712Z"
    }
   },
   "outputs": [
    {
     "data": {
      "text/plain": [
       "0"
      ]
     },
     "execution_count": 12,
     "metadata": {},
     "output_type": "execute_result"
    }
   ],
   "source": [
    "w.value"
   ]
  },
  {
   "cell_type": "code",
   "execution_count": 29,
   "id": "9b06451d-b6ce-47a5-9b80-058de14ad006",
   "metadata": {
    "execution": {
     "iopub.execute_input": "2024-05-27T17:06:41.527176Z",
     "iopub.status.busy": "2024-05-27T17:06:41.516310Z",
     "iopub.status.idle": "2024-05-27T17:06:41.560003Z",
     "shell.execute_reply": "2024-05-27T17:06:41.558838Z",
     "shell.execute_reply.started": "2024-05-27T17:06:41.527018Z"
    }
   },
   "outputs": [
    {
     "data": {
      "application/vnd.jupyter.widget-view+json": {
       "model_id": "819fabf4d1cd47599921e67f939d1f82",
       "version_major": 2,
       "version_minor": 0
      },
      "text/plain": [
       "Button(description='Cancel goal', layout=Layout(grid_area='b1', height='80px', width='10%'), style=ButtonStyle…"
      ]
     },
     "metadata": {},
     "output_type": "display_data"
    },
    {
     "data": {
      "application/vnd.jupyter.widget-view+json": {
       "model_id": "1b698a969f1d40e6bfc25953a790a649",
       "version_major": 2,
       "version_minor": 0
      },
      "text/plain": [
       "Output(outputs=({'name': 'stdout', 'text': 'Button clicked.\\n', 'output_type': 'stream'},))"
      ]
     },
     "metadata": {},
     "output_type": "display_data"
    }
   ],
   "source": [
    "import ipywidgets as widgets\n",
    "from ipywidgets import Button, Layout,ButtonStyle, GridBox, VBox, HBox\n",
    "from IPython.display import clear_output\n",
    "\n",
    "button = Button(description='Cancel goal',layout=Layout(width='10%', height='80px',align=\"center\", grid_area='b1'),style=ButtonStyle(button_color='lightblue'))\n",
    "# Define the callback function\n",
    "def on_button_clicked(b):\n",
    "    with output:\n",
    "        clear_output()\n",
    "        print(\"Cancel the goal\")\n",
    "        \n",
    "\n",
    "       \n",
    "# Register the callback function with the button\n",
    "button.on_click(on_button_clicked)\n",
    "\n",
    "# Display the button and output\n",
    "display(button, output)\n"
   ]
  },
  {
   "cell_type": "code",
   "execution_count": 49,
   "id": "5132e6e5-a5fd-4ec3-93f2-22a73f3f1e98",
   "metadata": {
    "execution": {
     "iopub.execute_input": "2024-05-27T17:17:19.045047Z",
     "iopub.status.busy": "2024-05-27T17:17:19.031281Z",
     "iopub.status.idle": "2024-05-27T17:17:19.115964Z",
     "shell.execute_reply": "2024-05-27T17:17:19.114448Z",
     "shell.execute_reply.started": "2024-05-27T17:17:19.044979Z"
    }
   },
   "outputs": [
    {
     "data": {
      "application/vnd.jupyter.widget-view+json": {
       "model_id": "4d37bb05783c45739d1c6ccad504145e",
       "version_major": 2,
       "version_minor": 0
      },
      "text/plain": [
       "HBox(children=(VBox(children=(FloatText(value=7.5, description='X:'), FloatText(value=7.5, description='Y:')))…"
      ]
     },
     "metadata": {},
     "output_type": "display_data"
    },
    {
     "data": {
      "application/vnd.jupyter.widget-view+json": {
       "model_id": "e0864559f59d49fe94751b9026170e1b",
       "version_major": 2,
       "version_minor": 0
      },
      "text/plain": [
       "Output()"
      ]
     },
     "metadata": {},
     "output_type": "display_data"
    }
   ],
   "source": [
    "import ipywidgets as widgets\n",
    "from IPython.display import display, clear_output\n",
    "\n",
    "# Create the first FloatText widget\n",
    "float_text1 = widgets.FloatText(\n",
    "    value=7.5,\n",
    "    description='X:',\n",
    ")\n",
    "\n",
    "# Create the second FloatText widget\n",
    "float_text2 = widgets.FloatText(\n",
    "    value=7.5,\n",
    "    description='Y:',\n",
    ")\n",
    "\n",
    "# Create the button widget\n",
    "button = widgets.Button(\n",
    "    description='Send goal position',\n",
    "    layout=widgets.Layout(width='12%', height='60px', align_items='center'),\n",
    "    style=widgets.ButtonStyle(button_color='lightblue')\n",
    ")\n",
    "\n",
    "# Create the output widget\n",
    "output = widgets.Output()\n",
    "\n",
    "# Define the callback function\n",
    "def on_button_clicked(b):\n",
    "    with output:\n",
    "        clear_output()\n",
    "        x_value = float_text1.value\n",
    "        y_value = float_text2.value\n",
    "        print(f\"Button clicked. X: {x_value}, Y: {y_value}\")\n",
    "\n",
    "# Register the callback function with the button\n",
    "button.on_click(on_button_clicked)\n",
    "\n",
    "# Display the FloatText widgets and button\n",
    "float_texts = widgets.VBox([float_text1, float_text2])\n",
    "set_goal = widgets.HBox([float_texts, button])\n",
    "display(set_goal, output)\n"
   ]
  },
  {
   "cell_type": "code",
   "execution_count": null,
   "id": "127a24b2-6fb8-4481-afc1-0995684556ce",
   "metadata": {},
   "outputs": [],
   "source": []
  }
 ],
 "metadata": {
  "kernelspec": {
   "display_name": "Python 3 (ipykernel)",
   "language": "python",
   "name": "python3"
  },
  "language_info": {
   "codemirror_mode": {
    "name": "ipython",
    "version": 3
   },
   "file_extension": ".py",
   "mimetype": "text/x-python",
   "name": "python",
   "nbconvert_exporter": "python",
   "pygments_lexer": "ipython3",
   "version": "3.8.10"
  }
 },
 "nbformat": 4,
 "nbformat_minor": 5
}
