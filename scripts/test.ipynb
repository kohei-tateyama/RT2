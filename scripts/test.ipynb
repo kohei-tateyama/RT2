{
 "cells": [
  {
   "cell_type": "code",
   "execution_count": 2,
   "id": "024835fe-7e49-4624-87f9-02e6f6c19be1",
   "metadata": {
    "execution": {
     "iopub.execute_input": "2024-05-28T09:23:24.240800Z",
     "iopub.status.busy": "2024-05-28T09:23:24.240436Z",
     "iopub.status.idle": "2024-05-28T09:23:24.663311Z",
     "shell.execute_reply": "2024-05-28T09:23:24.661994Z",
     "shell.execute_reply.started": "2024-05-28T09:23:24.240777Z"
    }
   },
   "outputs": [
    {
     "data": {
      "application/vnd.jupyter.widget-view+json": {
       "model_id": "72ed5ee57e9c43929091640272ffef9e",
       "version_major": 2,
       "version_minor": 0
      },
      "text/plain": [
       "Button(description='Click me', layout=Layout(height='60px', width='200px'), style=ButtonStyle(button_color='li…"
      ]
     },
     "metadata": {},
     "output_type": "display_data"
    }
   ],
   "source": [
    "import ipywidgets as widgets\n",
    "from IPython.display import display\n",
    "import rospy\n",
    "rospy.init_node('rand', anonymous=True)\n",
    "# Simple callback function\n",
    "def on_button_clicked(b):\n",
    "    print(\"Button clicked!\")\n",
    "\n",
    "# Create a button widget\n",
    "button = widgets.Button(\n",
    "    description='Click me',\n",
    "    layout=widgets.Layout(width='200px', height='60px'),\n",
    "    style=widgets.ButtonStyle(button_color='lightblue')\n",
    ")\n",
    "\n",
    "# Register the callback function with the button\n",
    "button.on_click(on_button_clicked)\n",
    "\n",
    "# Display the button\n",
    "display(button)\n"
   ]
  },
  {
   "cell_type": "code",
   "execution_count": 2,
   "id": "cf52bf32-66a3-4b21-9530-f5745ec013ae",
   "metadata": {
    "execution": {
     "iopub.execute_input": "2024-05-28T08:42:15.279036Z",
     "iopub.status.busy": "2024-05-28T08:42:15.275872Z",
     "iopub.status.idle": "2024-05-28T08:42:16.156611Z",
     "shell.execute_reply": "2024-05-28T08:42:16.155667Z",
     "shell.execute_reply.started": "2024-05-28T08:42:15.278192Z"
    }
   },
   "outputs": [],
   "source": [
    "import rospy\n",
    "from std_msgs.msg import String\n",
    "from nav_msgs.msg import Odometry\n",
    "from assignment_2_2023.msg import Position, Goal\n",
    "import assignment_2_2023\n",
    "import ipywidgets as widgets\n",
    "import numpy as np\n",
    "import matplotlib.pyplot as plt\n",
    "from matplotlib.animation import FuncAnimation\n",
    "import ipywidgets as widgets\n",
    "from IPython.display import display, clear_output\n",
    "from ipywidgets import Button, Layout,ButtonStyle, GridBox, VBox, HBox\n",
    "import actionlib\n",
    "import actionlib.msg\n",
    "from actionlib_msgs.msg import GoalStatusArray, GoalStatus"
   ]
  },
  {
   "cell_type": "code",
   "execution_count": 3,
   "id": "a0ddc7d7-3c5c-4783-b0e7-bf999a3f3a5a",
   "metadata": {
    "execution": {
     "iopub.execute_input": "2024-05-28T08:42:16.159246Z",
     "iopub.status.busy": "2024-05-28T08:42:16.158671Z",
     "iopub.status.idle": "2024-05-28T08:42:16.168879Z",
     "shell.execute_reply": "2024-05-28T08:42:16.168530Z",
     "shell.execute_reply.started": "2024-05-28T08:42:16.159229Z"
    }
   },
   "outputs": [],
   "source": [
    "def callback_reached(data):\n",
    "        print(\"reached called\")"
   ]
  },
  {
   "cell_type": "code",
   "execution_count": 4,
   "id": "e377d124-6924-4f41-ba70-5125b3abc819",
   "metadata": {
    "execution": {
     "iopub.execute_input": "2024-05-28T08:42:16.169950Z",
     "iopub.status.busy": "2024-05-28T08:42:16.169775Z",
     "iopub.status.idle": "2024-05-28T08:42:28.667823Z",
     "shell.execute_reply": "2024-05-28T08:42:28.666936Z",
     "shell.execute_reply.started": "2024-05-28T08:42:16.169938Z"
    }
   },
   "outputs": [
    {
     "name": "stdout",
     "output_type": "stream",
     "text": [
      "reached called\n",
      "reached called\n",
      "reached called\n",
      "reached called\n",
      "reached called\n",
      "reached called\n",
      "reached called\n",
      "reached called\n",
      "reached called\n",
      "reached called\n",
      "reached called\n",
      "reached called\n",
      "reached called\n",
      "reached called\n",
      "reached called\n",
      "reached called\n",
      "reached called\n",
      "reached called\n",
      "reached called\n",
      "reached called\n",
      "reached called\n",
      "reached called\n",
      "reached called\n",
      "reached called\n",
      "reached called\n",
      "reached called\n",
      "reached called\n",
      "reached called\n",
      "reached called\n",
      "reached called\n",
      "reached called\n",
      "reached called\n",
      "reached called\n",
      "reached called\n",
      "reached called\n",
      "reached called\n",
      "reached called\n",
      "reached called\n",
      "reached called\n",
      "reached called\n",
      "reached called\n",
      "reached called\n",
      "reached called\n",
      "reached called\n",
      "reached called\n",
      "reached called\n",
      "reached called\n",
      "reached called\n",
      "reached called\n",
      "reached called\n",
      "reached called\n",
      "reached called\n",
      "reached called\n"
     ]
    }
   ],
   "source": [
    "rospy.init_node('test_node', anonymous=True)\n",
    "sub2 = rospy.Subscriber('/reaching_goal/status', GoalStatusArray, callback_reached)\n",
    "rospy.spin()\n"
   ]
  },
  {
   "cell_type": "code",
   "execution_count": null,
   "id": "43506d69-0bad-4d5f-9558-0498ad0ccab6",
   "metadata": {},
   "outputs": [],
   "source": []
  },
  {
   "cell_type": "code",
   "execution_count": null,
   "id": "f50ea699-0826-428c-9a5d-847b223d37f6",
   "metadata": {},
   "outputs": [],
   "source": []
  }
 ],
 "metadata": {
  "kernelspec": {
   "display_name": "Python 3 (ipykernel)",
   "language": "python",
   "name": "python3"
  },
  "language_info": {
   "codemirror_mode": {
    "name": "ipython",
    "version": 3
   },
   "file_extension": ".py",
   "mimetype": "text/x-python",
   "name": "python",
   "nbconvert_exporter": "python",
   "pygments_lexer": "ipython3",
   "version": "3.8.10"
  }
 },
 "nbformat": 4,
 "nbformat_minor": 5
}
