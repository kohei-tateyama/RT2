{
 "cells": [
  {
   "cell_type": "markdown",
   "id": "e3832ad3-2b7e-4c54-9e22-2446e6561c01",
   "metadata": {},
   "source": [
    "# Assignment2 for research track 2"
   ]
  },
  {
   "cell_type": "markdown",
   "id": "10a5c5a6-3189-47df-81fa-45bfe49cb568",
   "metadata": {},
   "source": [
    "Name: Kohei Tateyama\n",
    "Student ID: S6427214"
   ]
  },
  {
   "cell_type": "markdown",
   "id": "76c08551-3306-4b5c-8abc-b65fa2942832",
   "metadata": {},
   "source": [
    "### Imports"
   ]
  },
  {
   "cell_type": "code",
   "execution_count": 1,
   "id": "216be91c-1aa0-46f6-8e47-bc74a8c23d0c",
   "metadata": {
    "execution": {
     "iopub.execute_input": "2024-05-28T09:21:20.833871Z",
     "iopub.status.busy": "2024-05-28T09:21:20.833766Z",
     "iopub.status.idle": "2024-05-28T09:21:21.609092Z",
     "shell.execute_reply": "2024-05-28T09:21:21.606119Z",
     "shell.execute_reply.started": "2024-05-28T09:21:20.833860Z"
    }
   },
   "outputs": [],
   "source": [
    "import rospy\n",
    "from std_msgs.msg import String\n",
    "from nav_msgs.msg import Odometry\n",
    "from assignment_2_2023.msg import Position, Goal\n",
    "import assignment_2_2023\n",
    "import ipywidgets as widgets\n",
    "import numpy as np\n",
    "import matplotlib.pyplot as plt\n",
    "from matplotlib.animation import FuncAnimation\n",
    "import ipywidgets as widgets\n",
    "from IPython.display import display, clear_output\n",
    "from ipywidgets import Button, Layout,ButtonStyle, GridBox, VBox, HBox\n",
    "import actionlib\n",
    "import actionlib.msg\n",
    "from actionlib_msgs.msg import GoalStatusArray, GoalStatus"
   ]
  },
  {
   "cell_type": "markdown",
   "id": "55f0bbd4-fcc4-498c-bed0-b0b8b209e5a9",
   "metadata": {},
   "source": [
    "### Goal reached vs non reached"
   ]
  },
  {
   "cell_type": "code",
   "execution_count": 2,
   "id": "022a5897-6c16-403e-949c-a06eea39c3c9",
   "metadata": {
    "execution": {
     "iopub.execute_input": "2024-05-28T09:21:21.611990Z",
     "iopub.status.busy": "2024-05-28T09:21:21.610907Z",
     "iopub.status.idle": "2024-05-28T09:21:21.627477Z",
     "shell.execute_reply": "2024-05-28T09:21:21.625453Z",
     "shell.execute_reply.started": "2024-05-28T09:21:21.611973Z"
    }
   },
   "outputs": [],
   "source": [
    "goal_list = [0,0]\n",
    "flag = True\n",
    "# 0 for not reached and 1 for reached"
   ]
  },
  {
   "cell_type": "code",
   "execution_count": 3,
   "id": "ad24369f-d805-4f5c-adf6-4d4d41329704",
   "metadata": {
    "execution": {
     "iopub.execute_input": "2024-05-28T09:21:21.629365Z",
     "iopub.status.busy": "2024-05-28T09:21:21.628958Z",
     "iopub.status.idle": "2024-05-28T09:21:21.820347Z",
     "shell.execute_reply": "2024-05-28T09:21:21.818181Z",
     "shell.execute_reply.started": "2024-05-28T09:21:21.629351Z"
    }
   },
   "outputs": [
    {
     "name": "stdout",
     "output_type": "stream",
     "text": [
      "Reached Target\n",
      "Reached Target\n",
      "Reached Target\n",
      "Reached Target\n",
      "Reached Target\n",
      "Reached Target\n",
      "Reached Target\n",
      "Reached Target\n",
      "Reached Target\n",
      "Reached Target\n",
      "Reached Target\n",
      "Reached Target\n",
      "Reached Target\n",
      "Reached Target\n",
      "Reached Target\n",
      "Reached Target\n",
      "Reached Target\n",
      "Reached Target\n",
      "Reached Target\n",
      "Reached Target\n",
      "Reached Target\n",
      "Reached Target\n",
      "Reached Target\n",
      "Reached Target\n",
      "Reached Target\n",
      "Reached Target\n",
      "Reached Target\n",
      "Reached Target\n",
      "Reached Target\n",
      "Reached Target\n",
      "Reached Target\n",
      "Reached Target\n",
      "Reached Target\n",
      "Reached Target\n",
      "Reached Target\n",
      "Reached Target\n",
      "Reached Target\n",
      "Reached Target\n",
      "Reached Target\n",
      "Reached Target\n",
      "Reached Target\n",
      "Reached Target\n",
      "Reached Target\n",
      "Reached Target\n",
      "Reached Target\n",
      "Reached Target\n",
      "Reached Target\n",
      "Reached Target\n",
      "Reached Target\n",
      "Reached Target\n",
      "Reached Target\n",
      "Reached Target\n",
      "Reached Target\n"
     ]
    },
    {
     "name": "stderr",
     "output_type": "stream",
     "text": [
      "[ERROR] [1716888754.009736, 2285.102000]: bad callback: <bound method Visualiser.callback_reached of <__main__.Visualiser object at 0xffff48294df0>>\n",
      "Traceback (most recent call last):\n",
      "  File \"/opt/ros/noetic/lib/python3/dist-packages/rospy/topics.py\", line 750, in _invoke_callback\n",
      "    cb(msg)\n",
      "  File \"/tmp/ipykernel_29849/1889992548.py\", line 48, in callback_reached\n",
      "    if flag:\n",
      "UnboundLocalError: local variable 'flag' referenced before assignment\n",
      "\n",
      "[ERROR] [1716888754.012241, 2285.105000]: bad callback: <bound method Visualiser.callback_reached of <__main__.Visualiser object at 0xffff48139b20>>\n",
      "Traceback (most recent call last):\n",
      "  File \"/opt/ros/noetic/lib/python3/dist-packages/rospy/topics.py\", line 750, in _invoke_callback\n",
      "    cb(msg)\n",
      "  File \"/tmp/ipykernel_29849/3932557714.py\", line 48, in callback_reached\n",
      "    if flag:\n",
      "UnboundLocalError: local variable 'flag' referenced before assignment\n",
      "\n"
     ]
    },
    {
     "name": "stdout",
     "output_type": "stream",
     "text": [
      "Reached Target\n",
      "Reached Target\n",
      "Reached Target\n"
     ]
    },
    {
     "name": "stderr",
     "output_type": "stream",
     "text": [
      "[ERROR] [1716888754.058882, 2285.156000]: bad callback: <bound method Visualiser.callback_reached of <__main__.Visualiser object at 0xffff48294df0>>\n",
      "Traceback (most recent call last):\n",
      "  File \"/opt/ros/noetic/lib/python3/dist-packages/rospy/topics.py\", line 750, in _invoke_callback\n",
      "    cb(msg)\n",
      "  File \"/tmp/ipykernel_29849/1889992548.py\", line 48, in callback_reached\n",
      "    if flag:\n",
      "UnboundLocalError: local variable 'flag' referenced before assignment\n",
      "\n",
      "[ERROR] [1716888754.091634, 2285.184000]: bad callback: <bound method Visualiser.callback_reached of <__main__.Visualiser object at 0xffff48139b20>>\n",
      "Traceback (most recent call last):\n",
      "  File \"/opt/ros/noetic/lib/python3/dist-packages/rospy/topics.py\", line 750, in _invoke_callback\n",
      "    cb(msg)\n",
      "  File \"/tmp/ipykernel_29849/3932557714.py\", line 48, in callback_reached\n",
      "    if flag:\n",
      "UnboundLocalError: local variable 'flag' referenced before assignment\n",
      "\n"
     ]
    },
    {
     "name": "stdout",
     "output_type": "stream",
     "text": [
      "Reached Target\n",
      "Reached Target\n",
      "Reached Target\n"
     ]
    },
    {
     "name": "stderr",
     "output_type": "stream",
     "text": [
      "[ERROR] [1716888754.281553, 2285.331000]: bad callback: <bound method Visualiser.callback_reached of <__main__.Visualiser object at 0xffff48294df0>>\n",
      "Traceback (most recent call last):\n",
      "  File \"/opt/ros/noetic/lib/python3/dist-packages/rospy/topics.py\", line 750, in _invoke_callback\n",
      "    cb(msg)\n",
      "  File \"/tmp/ipykernel_29849/1889992548.py\", line 48, in callback_reached\n",
      "    if flag:\n",
      "UnboundLocalError: local variable 'flag' referenced before assignment\n",
      "\n",
      "[ERROR] [1716888754.282753, 2285.331000]: bad callback: <bound method Visualiser.callback_reached of <__main__.Visualiser object at 0xffff48139b20>>\n",
      "Traceback (most recent call last):\n",
      "  File \"/opt/ros/noetic/lib/python3/dist-packages/rospy/topics.py\", line 750, in _invoke_callback\n",
      "    cb(msg)\n",
      "  File \"/tmp/ipykernel_29849/3932557714.py\", line 48, in callback_reached\n",
      "    if flag:\n",
      "UnboundLocalError: local variable 'flag' referenced before assignment\n",
      "\n"
     ]
    },
    {
     "name": "stdout",
     "output_type": "stream",
     "text": [
      "Reached Target\n",
      "Reached Target\n",
      "Reached Target\n"
     ]
    },
    {
     "name": "stderr",
     "output_type": "stream",
     "text": [
      "[ERROR] [1716888754.507516, 2285.528000]: bad callback: <bound method Visualiser.callback_reached of <__main__.Visualiser object at 0xffff48294df0>>\n",
      "Traceback (most recent call last):\n",
      "  File \"/opt/ros/noetic/lib/python3/dist-packages/rospy/topics.py\", line 750, in _invoke_callback\n",
      "    cb(msg)\n",
      "  File \"/tmp/ipykernel_29849/1889992548.py\", line 48, in callback_reached\n",
      "    if flag:\n",
      "UnboundLocalError: local variable 'flag' referenced before assignment\n",
      "\n",
      "[ERROR] [1716888754.509557, 2285.533000]: bad callback: <bound method Visualiser.callback_reached of <__main__.Visualiser object at 0xffff48139b20>>\n",
      "Traceback (most recent call last):\n",
      "  File \"/opt/ros/noetic/lib/python3/dist-packages/rospy/topics.py\", line 750, in _invoke_callback\n",
      "    cb(msg)\n",
      "  File \"/tmp/ipykernel_29849/3932557714.py\", line 48, in callback_reached\n",
      "    if flag:\n",
      "UnboundLocalError: local variable 'flag' referenced before assignment\n",
      "\n"
     ]
    },
    {
     "name": "stdout",
     "output_type": "stream",
     "text": [
      "Reached Target\n",
      "Reached Target\n",
      "Reached Target\n"
     ]
    },
    {
     "name": "stderr",
     "output_type": "stream",
     "text": [
      "[ERROR] [1716888754.727688, 2285.731000]: bad callback: <bound method Visualiser.callback_reached of <__main__.Visualiser object at 0xffff48294df0>>\n",
      "Traceback (most recent call last):\n",
      "  File \"/opt/ros/noetic/lib/python3/dist-packages/rospy/topics.py\", line 750, in _invoke_callback\n",
      "    cb(msg)\n",
      "  File \"/tmp/ipykernel_29849/1889992548.py\", line 48, in callback_reached\n",
      "    if flag:\n",
      "UnboundLocalError: local variable 'flag' referenced before assignment\n",
      "\n",
      "[ERROR] [1716888754.729220, 2285.734000]: bad callback: <bound method Visualiser.callback_reached of <__main__.Visualiser object at 0xffff48139b20>>\n",
      "Traceback (most recent call last):\n",
      "  File \"/opt/ros/noetic/lib/python3/dist-packages/rospy/topics.py\", line 750, in _invoke_callback\n",
      "    cb(msg)\n",
      "  File \"/tmp/ipykernel_29849/3932557714.py\", line 48, in callback_reached\n",
      "    if flag:\n",
      "UnboundLocalError: local variable 'flag' referenced before assignment\n",
      "\n"
     ]
    },
    {
     "name": "stdout",
     "output_type": "stream",
     "text": [
      "Reached Target\n",
      "Reached Target\n",
      "Reached Target\n"
     ]
    },
    {
     "name": "stderr",
     "output_type": "stream",
     "text": [
      "[ERROR] [1716888754.977806, 2285.936000]: bad callback: <bound method Visualiser.callback_reached of <__main__.Visualiser object at 0xffff48294df0>>\n",
      "Traceback (most recent call last):\n",
      "  File \"/opt/ros/noetic/lib/python3/dist-packages/rospy/topics.py\", line 750, in _invoke_callback\n",
      "    cb(msg)\n",
      "  File \"/tmp/ipykernel_29849/1889992548.py\", line 48, in callback_reached\n",
      "    if flag:\n",
      "UnboundLocalError: local variable 'flag' referenced before assignment\n",
      "\n",
      "[ERROR] [1716888754.981483, 2285.936000]: bad callback: <bound method Visualiser.callback_reached of <__main__.Visualiser object at 0xffff48139b20>>\n",
      "Traceback (most recent call last):\n",
      "  File \"/opt/ros/noetic/lib/python3/dist-packages/rospy/topics.py\", line 750, in _invoke_callback\n",
      "    cb(msg)\n",
      "  File \"/tmp/ipykernel_29849/3932557714.py\", line 48, in callback_reached\n",
      "    if flag:\n",
      "UnboundLocalError: local variable 'flag' referenced before assignment\n",
      "\n"
     ]
    },
    {
     "name": "stdout",
     "output_type": "stream",
     "text": [
      "Reached Target\n",
      "Reached Target\n",
      "Reached Target\n"
     ]
    },
    {
     "name": "stderr",
     "output_type": "stream",
     "text": [
      "[ERROR] [1716888755.242527, 2286.132000]: bad callback: <bound method Visualiser.callback_reached of <__main__.Visualiser object at 0xffff48294df0>>\n",
      "Traceback (most recent call last):\n",
      "  File \"/opt/ros/noetic/lib/python3/dist-packages/rospy/topics.py\", line 750, in _invoke_callback\n",
      "    cb(msg)\n",
      "  File \"/tmp/ipykernel_29849/1889992548.py\", line 48, in callback_reached\n",
      "    if flag:\n",
      "UnboundLocalError: local variable 'flag' referenced before assignment\n",
      "\n",
      "[ERROR] [1716888755.246972, 2286.132000]: bad callback: <bound method Visualiser.callback_reached of <__main__.Visualiser object at 0xffff48139b20>>\n",
      "Traceback (most recent call last):\n",
      "  File \"/opt/ros/noetic/lib/python3/dist-packages/rospy/topics.py\", line 750, in _invoke_callback\n",
      "    cb(msg)\n",
      "  File \"/tmp/ipykernel_29849/3932557714.py\", line 48, in callback_reached\n",
      "    if flag:\n",
      "UnboundLocalError: local variable 'flag' referenced before assignment\n",
      "\n"
     ]
    },
    {
     "name": "stdout",
     "output_type": "stream",
     "text": [
      "Reached Target\n",
      "Reached Target\n",
      "Reached Target\n"
     ]
    },
    {
     "name": "stderr",
     "output_type": "stream",
     "text": [
      "[ERROR] [1716888755.468862, 2286.334000]: bad callback: <bound method Visualiser.callback_reached of <__main__.Visualiser object at 0xffff48294df0>>\n",
      "Traceback (most recent call last):\n",
      "  File \"/opt/ros/noetic/lib/python3/dist-packages/rospy/topics.py\", line 750, in _invoke_callback\n",
      "    cb(msg)\n",
      "  File \"/tmp/ipykernel_29849/1889992548.py\", line 48, in callback_reached\n",
      "    if flag:\n",
      "UnboundLocalError: local variable 'flag' referenced before assignment\n",
      "\n",
      "[ERROR] [1716888755.471362, 2286.335000]: bad callback: <bound method Visualiser.callback_reached of <__main__.Visualiser object at 0xffff48139b20>>\n",
      "Traceback (most recent call last):\n",
      "  File \"/opt/ros/noetic/lib/python3/dist-packages/rospy/topics.py\", line 750, in _invoke_callback\n",
      "    cb(msg)\n",
      "  File \"/tmp/ipykernel_29849/3932557714.py\", line 48, in callback_reached\n",
      "    if flag:\n",
      "UnboundLocalError: local variable 'flag' referenced before assignment\n",
      "\n"
     ]
    },
    {
     "name": "stdout",
     "output_type": "stream",
     "text": [
      "Reached Target\n",
      "Reached Target\n",
      "Reached Target\n"
     ]
    },
    {
     "name": "stderr",
     "output_type": "stream",
     "text": [
      "[ERROR] [1716888755.683707, 2286.532000]: bad callback: <bound method Visualiser.callback_reached of <__main__.Visualiser object at 0xffff48294df0>>\n",
      "Traceback (most recent call last):\n",
      "  File \"/opt/ros/noetic/lib/python3/dist-packages/rospy/topics.py\", line 750, in _invoke_callback\n",
      "    cb(msg)\n",
      "  File \"/tmp/ipykernel_29849/1889992548.py\", line 48, in callback_reached\n",
      "    if flag:\n",
      "UnboundLocalError: local variable 'flag' referenced before assignment\n",
      "\n",
      "[ERROR] [1716888755.687973, 2286.532000]: bad callback: <bound method Visualiser.callback_reached of <__main__.Visualiser object at 0xffff48139b20>>\n",
      "Traceback (most recent call last):\n",
      "  File \"/opt/ros/noetic/lib/python3/dist-packages/rospy/topics.py\", line 750, in _invoke_callback\n",
      "    cb(msg)\n",
      "  File \"/tmp/ipykernel_29849/3932557714.py\", line 48, in callback_reached\n",
      "    if flag:\n",
      "UnboundLocalError: local variable 'flag' referenced before assignment\n",
      "\n"
     ]
    },
    {
     "name": "stdout",
     "output_type": "stream",
     "text": [
      "Reached Target\n",
      "Reached Target\n",
      "Reached Target\n"
     ]
    },
    {
     "name": "stderr",
     "output_type": "stream",
     "text": [
      "[ERROR] [1716888755.898396, 2286.726000]: bad callback: <bound method Visualiser.callback_reached of <__main__.Visualiser object at 0xffff48294df0>>\n",
      "Traceback (most recent call last):\n",
      "  File \"/opt/ros/noetic/lib/python3/dist-packages/rospy/topics.py\", line 750, in _invoke_callback\n",
      "    cb(msg)\n",
      "  File \"/tmp/ipykernel_29849/1889992548.py\", line 48, in callback_reached\n",
      "    if flag:\n",
      "UnboundLocalError: local variable 'flag' referenced before assignment\n",
      "\n",
      "[ERROR] [1716888755.900507, 2286.726000]: bad callback: <bound method Visualiser.callback_reached of <__main__.Visualiser object at 0xffff48139b20>>\n",
      "Traceback (most recent call last):\n",
      "  File \"/opt/ros/noetic/lib/python3/dist-packages/rospy/topics.py\", line 750, in _invoke_callback\n",
      "    cb(msg)\n",
      "  File \"/tmp/ipykernel_29849/3932557714.py\", line 48, in callback_reached\n",
      "    if flag:\n",
      "UnboundLocalError: local variable 'flag' referenced before assignment\n",
      "\n"
     ]
    },
    {
     "name": "stdout",
     "output_type": "stream",
     "text": [
      "Reached Target\n",
      "Reached Target\n"
     ]
    },
    {
     "name": "stderr",
     "output_type": "stream",
     "text": [
      "[ERROR] [1716888756.100949, 2286.921000]: bad callback: <bound method Visualiser.callback_reached of <__main__.Visualiser object at 0xffff48294df0>>\n",
      "Traceback (most recent call last):\n",
      "  File \"/opt/ros/noetic/lib/python3/dist-packages/rospy/topics.py\", line 750, in _invoke_callback\n",
      "    cb(msg)\n",
      "  File \"/tmp/ipykernel_29849/1889992548.py\", line 48, in callback_reached\n",
      "    if flag:\n",
      "UnboundLocalError: local variable 'flag' referenced before assignment\n",
      "\n"
     ]
    },
    {
     "name": "stdout",
     "output_type": "stream",
     "text": [
      "Reached Target\n"
     ]
    },
    {
     "name": "stderr",
     "output_type": "stream",
     "text": [
      "[ERROR] [1716888756.106749, 2286.921000]: bad callback: <bound method Visualiser.callback_reached of <__main__.Visualiser object at 0xffff48139b20>>\n",
      "Traceback (most recent call last):\n",
      "  File \"/opt/ros/noetic/lib/python3/dist-packages/rospy/topics.py\", line 750, in _invoke_callback\n",
      "    cb(msg)\n",
      "  File \"/tmp/ipykernel_29849/3932557714.py\", line 48, in callback_reached\n",
      "    if flag:\n",
      "UnboundLocalError: local variable 'flag' referenced before assignment\n",
      "\n"
     ]
    },
    {
     "name": "stdout",
     "output_type": "stream",
     "text": [
      "Reached Target\n",
      "Reached Target\n",
      "Reached Target\n"
     ]
    },
    {
     "name": "stderr",
     "output_type": "stream",
     "text": [
      "[ERROR] [1716888756.372923, 2287.129000]: bad callback: <bound method Visualiser.callback_reached of <__main__.Visualiser object at 0xffff48294df0>>\n",
      "Traceback (most recent call last):\n",
      "  File \"/opt/ros/noetic/lib/python3/dist-packages/rospy/topics.py\", line 750, in _invoke_callback\n",
      "    cb(msg)\n",
      "  File \"/tmp/ipykernel_29849/1889992548.py\", line 48, in callback_reached\n",
      "    if flag:\n",
      "UnboundLocalError: local variable 'flag' referenced before assignment\n",
      "\n",
      "[ERROR] [1716888756.375893, 2287.135000]: bad callback: <bound method Visualiser.callback_reached of <__main__.Visualiser object at 0xffff48139b20>>\n",
      "Traceback (most recent call last):\n",
      "  File \"/opt/ros/noetic/lib/python3/dist-packages/rospy/topics.py\", line 750, in _invoke_callback\n",
      "    cb(msg)\n",
      "  File \"/tmp/ipykernel_29849/3932557714.py\", line 48, in callback_reached\n",
      "    if flag:\n",
      "UnboundLocalError: local variable 'flag' referenced before assignment\n",
      "\n"
     ]
    },
    {
     "name": "stdout",
     "output_type": "stream",
     "text": [
      "Reached Target\n",
      "Reached Target\n",
      "Reached Target\n"
     ]
    },
    {
     "name": "stderr",
     "output_type": "stream",
     "text": [
      "[ERROR] [1716888756.583505, 2287.334000]: bad callback: <bound method Visualiser.callback_reached of <__main__.Visualiser object at 0xffff48294df0>>\n",
      "Traceback (most recent call last):\n",
      "  File \"/opt/ros/noetic/lib/python3/dist-packages/rospy/topics.py\", line 750, in _invoke_callback\n",
      "    cb(msg)\n",
      "  File \"/tmp/ipykernel_29849/1889992548.py\", line 48, in callback_reached\n",
      "    if flag:\n",
      "UnboundLocalError: local variable 'flag' referenced before assignment\n",
      "\n",
      "[ERROR] [1716888756.585344, 2287.335000]: bad callback: <bound method Visualiser.callback_reached of <__main__.Visualiser object at 0xffff48139b20>>\n",
      "Traceback (most recent call last):\n",
      "  File \"/opt/ros/noetic/lib/python3/dist-packages/rospy/topics.py\", line 750, in _invoke_callback\n",
      "    cb(msg)\n",
      "  File \"/tmp/ipykernel_29849/3932557714.py\", line 48, in callback_reached\n",
      "    if flag:\n",
      "UnboundLocalError: local variable 'flag' referenced before assignment\n",
      "\n"
     ]
    },
    {
     "name": "stdout",
     "output_type": "stream",
     "text": [
      "Reached Target\n",
      "Reached Target\n",
      "Reached Target\n"
     ]
    },
    {
     "name": "stderr",
     "output_type": "stream",
     "text": [
      "[ERROR] [1716888756.791873, 2287.532000]: bad callback: <bound method Visualiser.callback_reached of <__main__.Visualiser object at 0xffff48294df0>>\n",
      "Traceback (most recent call last):\n",
      "  File \"/opt/ros/noetic/lib/python3/dist-packages/rospy/topics.py\", line 750, in _invoke_callback\n",
      "    cb(msg)\n",
      "  File \"/tmp/ipykernel_29849/1889992548.py\", line 48, in callback_reached\n",
      "    if flag:\n",
      "UnboundLocalError: local variable 'flag' referenced before assignment\n",
      "\n",
      "[ERROR] [1716888756.793747, 2287.532000]: bad callback: <bound method Visualiser.callback_reached of <__main__.Visualiser object at 0xffff48139b20>>\n",
      "Traceback (most recent call last):\n",
      "  File \"/opt/ros/noetic/lib/python3/dist-packages/rospy/topics.py\", line 750, in _invoke_callback\n",
      "    cb(msg)\n",
      "  File \"/tmp/ipykernel_29849/3932557714.py\", line 48, in callback_reached\n",
      "    if flag:\n",
      "UnboundLocalError: local variable 'flag' referenced before assignment\n",
      "\n"
     ]
    },
    {
     "name": "stdout",
     "output_type": "stream",
     "text": [
      "Reached Target\n",
      "Reached Target\n",
      "Reached Target\n"
     ]
    },
    {
     "name": "stderr",
     "output_type": "stream",
     "text": [
      "[ERROR] [1716888757.052983, 2287.732000]: bad callback: <bound method Visualiser.callback_reached of <__main__.Visualiser object at 0xffff48294df0>>\n",
      "Traceback (most recent call last):\n",
      "  File \"/opt/ros/noetic/lib/python3/dist-packages/rospy/topics.py\", line 750, in _invoke_callback\n",
      "    cb(msg)\n",
      "  File \"/tmp/ipykernel_29849/1889992548.py\", line 48, in callback_reached\n",
      "    if flag:\n",
      "UnboundLocalError: local variable 'flag' referenced before assignment\n",
      "\n",
      "[ERROR] [1716888757.058670, 2287.732000]: bad callback: <bound method Visualiser.callback_reached of <__main__.Visualiser object at 0xffff48139b20>>\n",
      "Traceback (most recent call last):\n",
      "  File \"/opt/ros/noetic/lib/python3/dist-packages/rospy/topics.py\", line 750, in _invoke_callback\n",
      "    cb(msg)\n",
      "  File \"/tmp/ipykernel_29849/3932557714.py\", line 48, in callback_reached\n",
      "    if flag:\n",
      "UnboundLocalError: local variable 'flag' referenced before assignment\n",
      "\n"
     ]
    },
    {
     "name": "stdout",
     "output_type": "stream",
     "text": [
      "Reached Target\n",
      "Reached Target\n",
      "Reached Target\n"
     ]
    },
    {
     "name": "stderr",
     "output_type": "stream",
     "text": [
      "[ERROR] [1716888757.367528, 2287.935000]: bad callback: <bound method Visualiser.callback_reached of <__main__.Visualiser object at 0xffff48294df0>>\n",
      "Traceback (most recent call last):\n",
      "  File \"/opt/ros/noetic/lib/python3/dist-packages/rospy/topics.py\", line 750, in _invoke_callback\n",
      "    cb(msg)\n",
      "  File \"/tmp/ipykernel_29849/1889992548.py\", line 48, in callback_reached\n",
      "    if flag:\n",
      "UnboundLocalError: local variable 'flag' referenced before assignment\n",
      "\n",
      "[ERROR] [1716888757.369674, 2287.935000]: bad callback: <bound method Visualiser.callback_reached of <__main__.Visualiser object at 0xffff48139b20>>\n",
      "Traceback (most recent call last):\n",
      "  File \"/opt/ros/noetic/lib/python3/dist-packages/rospy/topics.py\", line 750, in _invoke_callback\n",
      "    cb(msg)\n",
      "  File \"/tmp/ipykernel_29849/3932557714.py\", line 48, in callback_reached\n",
      "    if flag:\n",
      "UnboundLocalError: local variable 'flag' referenced before assignment\n",
      "\n"
     ]
    },
    {
     "name": "stdout",
     "output_type": "stream",
     "text": [
      "Reached Target\n",
      "Reached Target\n",
      "Reached Target\n"
     ]
    },
    {
     "name": "stderr",
     "output_type": "stream",
     "text": [
      "[ERROR] [1716888757.620001, 2288.134000]: bad callback: <bound method Visualiser.callback_reached of <__main__.Visualiser object at 0xffff48294df0>>\n",
      "Traceback (most recent call last):\n",
      "  File \"/opt/ros/noetic/lib/python3/dist-packages/rospy/topics.py\", line 750, in _invoke_callback\n",
      "    cb(msg)\n",
      "  File \"/tmp/ipykernel_29849/1889992548.py\", line 48, in callback_reached\n",
      "    if flag:\n",
      "UnboundLocalError: local variable 'flag' referenced before assignment\n",
      "\n",
      "[ERROR] [1716888757.623469, 2288.139000]: bad callback: <bound method Visualiser.callback_reached of <__main__.Visualiser object at 0xffff48139b20>>\n",
      "Traceback (most recent call last):\n",
      "  File \"/opt/ros/noetic/lib/python3/dist-packages/rospy/topics.py\", line 750, in _invoke_callback\n",
      "    cb(msg)\n",
      "  File \"/tmp/ipykernel_29849/3932557714.py\", line 48, in callback_reached\n",
      "    if flag:\n",
      "UnboundLocalError: local variable 'flag' referenced before assignment\n",
      "\n"
     ]
    },
    {
     "name": "stdout",
     "output_type": "stream",
     "text": [
      "Reached Target\n",
      "Reached Target\n",
      "Reached Target\n"
     ]
    },
    {
     "name": "stderr",
     "output_type": "stream",
     "text": [
      "[ERROR] [1716888757.875375, 2288.331000]: bad callback: <bound method Visualiser.callback_reached of <__main__.Visualiser object at 0xffff48294df0>>\n",
      "Traceback (most recent call last):\n",
      "  File \"/opt/ros/noetic/lib/python3/dist-packages/rospy/topics.py\", line 750, in _invoke_callback\n",
      "    cb(msg)\n",
      "  File \"/tmp/ipykernel_29849/1889992548.py\", line 48, in callback_reached\n",
      "    if flag:\n",
      "UnboundLocalError: local variable 'flag' referenced before assignment\n",
      "\n",
      "[ERROR] [1716888757.877526, 2288.331000]: bad callback: <bound method Visualiser.callback_reached of <__main__.Visualiser object at 0xffff48139b20>>\n",
      "Traceback (most recent call last):\n",
      "  File \"/opt/ros/noetic/lib/python3/dist-packages/rospy/topics.py\", line 750, in _invoke_callback\n",
      "    cb(msg)\n",
      "  File \"/tmp/ipykernel_29849/3932557714.py\", line 48, in callback_reached\n",
      "    if flag:\n",
      "UnboundLocalError: local variable 'flag' referenced before assignment\n",
      "\n"
     ]
    },
    {
     "name": "stdout",
     "output_type": "stream",
     "text": [
      "Reached Target\n",
      "Reached Target\n",
      "Reached Target\n"
     ]
    },
    {
     "name": "stderr",
     "output_type": "stream",
     "text": [
      "[ERROR] [1716888758.128028, 2288.539000]: bad callback: <bound method Visualiser.callback_reached of <__main__.Visualiser object at 0xffff48294df0>>\n",
      "Traceback (most recent call last):\n",
      "  File \"/opt/ros/noetic/lib/python3/dist-packages/rospy/topics.py\", line 750, in _invoke_callback\n",
      "    cb(msg)\n",
      "  File \"/tmp/ipykernel_29849/1889992548.py\", line 48, in callback_reached\n",
      "    if flag:\n",
      "UnboundLocalError: local variable 'flag' referenced before assignment\n",
      "\n",
      "[ERROR] [1716888758.131853, 2288.542000]: bad callback: <bound method Visualiser.callback_reached of <__main__.Visualiser object at 0xffff48139b20>>\n",
      "Traceback (most recent call last):\n",
      "  File \"/opt/ros/noetic/lib/python3/dist-packages/rospy/topics.py\", line 750, in _invoke_callback\n",
      "    cb(msg)\n",
      "  File \"/tmp/ipykernel_29849/3932557714.py\", line 48, in callback_reached\n",
      "    if flag:\n",
      "UnboundLocalError: local variable 'flag' referenced before assignment\n",
      "\n"
     ]
    },
    {
     "name": "stdout",
     "output_type": "stream",
     "text": [
      "Reached Target\n",
      "Reached Target\n",
      "Reached Target\n"
     ]
    },
    {
     "name": "stderr",
     "output_type": "stream",
     "text": [
      "[ERROR] [1716888758.372901, 2288.734000]: bad callback: <bound method Visualiser.callback_reached of <__main__.Visualiser object at 0xffff48294df0>>\n",
      "Traceback (most recent call last):\n",
      "  File \"/opt/ros/noetic/lib/python3/dist-packages/rospy/topics.py\", line 750, in _invoke_callback\n",
      "    cb(msg)\n",
      "  File \"/tmp/ipykernel_29849/1889992548.py\", line 48, in callback_reached\n",
      "    if flag:\n",
      "UnboundLocalError: local variable 'flag' referenced before assignment\n",
      "\n",
      "[ERROR] [1716888758.376494, 2288.737000]: bad callback: <bound method Visualiser.callback_reached of <__main__.Visualiser object at 0xffff48139b20>>\n",
      "Traceback (most recent call last):\n",
      "  File \"/opt/ros/noetic/lib/python3/dist-packages/rospy/topics.py\", line 750, in _invoke_callback\n",
      "    cb(msg)\n",
      "  File \"/tmp/ipykernel_29849/3932557714.py\", line 48, in callback_reached\n",
      "    if flag:\n",
      "UnboundLocalError: local variable 'flag' referenced before assignment\n",
      "\n"
     ]
    },
    {
     "name": "stdout",
     "output_type": "stream",
     "text": [
      "Reached Target\n",
      "Reached Target\n",
      "Reached Target\n"
     ]
    },
    {
     "name": "stderr",
     "output_type": "stream",
     "text": [
      "[ERROR] [1716888758.606360, 2288.930000]: bad callback: <bound method Visualiser.callback_reached of <__main__.Visualiser object at 0xffff48294df0>>\n",
      "Traceback (most recent call last):\n",
      "  File \"/opt/ros/noetic/lib/python3/dist-packages/rospy/topics.py\", line 750, in _invoke_callback\n",
      "    cb(msg)\n",
      "  File \"/tmp/ipykernel_29849/1889992548.py\", line 48, in callback_reached\n",
      "    if flag:\n",
      "UnboundLocalError: local variable 'flag' referenced before assignment\n",
      "\n",
      "[ERROR] [1716888758.608695, 2288.939000]: bad callback: <bound method Visualiser.callback_reached of <__main__.Visualiser object at 0xffff48139b20>>\n",
      "Traceback (most recent call last):\n",
      "  File \"/opt/ros/noetic/lib/python3/dist-packages/rospy/topics.py\", line 750, in _invoke_callback\n",
      "    cb(msg)\n",
      "  File \"/tmp/ipykernel_29849/3932557714.py\", line 48, in callback_reached\n",
      "    if flag:\n",
      "UnboundLocalError: local variable 'flag' referenced before assignment\n",
      "\n"
     ]
    },
    {
     "name": "stdout",
     "output_type": "stream",
     "text": [
      "Reached Target\n",
      "Reached Target\n",
      "Reached Target\n"
     ]
    },
    {
     "name": "stderr",
     "output_type": "stream",
     "text": [
      "[ERROR] [1716888758.798945, 2289.132000]: bad callback: <bound method Visualiser.callback_reached of <__main__.Visualiser object at 0xffff48294df0>>\n",
      "Traceback (most recent call last):\n",
      "  File \"/opt/ros/noetic/lib/python3/dist-packages/rospy/topics.py\", line 750, in _invoke_callback\n",
      "    cb(msg)\n",
      "  File \"/tmp/ipykernel_29849/1889992548.py\", line 48, in callback_reached\n",
      "    if flag:\n",
      "UnboundLocalError: local variable 'flag' referenced before assignment\n",
      "\n",
      "[ERROR] [1716888758.800188, 2289.135000]: bad callback: <bound method Visualiser.callback_reached of <__main__.Visualiser object at 0xffff48139b20>>\n",
      "Traceback (most recent call last):\n",
      "  File \"/opt/ros/noetic/lib/python3/dist-packages/rospy/topics.py\", line 750, in _invoke_callback\n",
      "    cb(msg)\n",
      "  File \"/tmp/ipykernel_29849/3932557714.py\", line 48, in callback_reached\n",
      "    if flag:\n",
      "UnboundLocalError: local variable 'flag' referenced before assignment\n",
      "\n"
     ]
    },
    {
     "name": "stdout",
     "output_type": "stream",
     "text": [
      "Reached Target\n",
      "Reached Target\n",
      "Reached Target\n"
     ]
    },
    {
     "name": "stderr",
     "output_type": "stream",
     "text": [
      "[ERROR] [1716888759.020093, 2289.333000]: bad callback: <bound method Visualiser.callback_reached of <__main__.Visualiser object at 0xffff48294df0>>\n",
      "Traceback (most recent call last):\n",
      "  File \"/opt/ros/noetic/lib/python3/dist-packages/rospy/topics.py\", line 750, in _invoke_callback\n",
      "    cb(msg)\n",
      "  File \"/tmp/ipykernel_29849/1889992548.py\", line 48, in callback_reached\n",
      "    if flag:\n",
      "UnboundLocalError: local variable 'flag' referenced before assignment\n",
      "\n",
      "[ERROR] [1716888759.022935, 2289.333000]: bad callback: <bound method Visualiser.callback_reached of <__main__.Visualiser object at 0xffff48139b20>>\n",
      "Traceback (most recent call last):\n",
      "  File \"/opt/ros/noetic/lib/python3/dist-packages/rospy/topics.py\", line 750, in _invoke_callback\n",
      "    cb(msg)\n",
      "  File \"/tmp/ipykernel_29849/3932557714.py\", line 48, in callback_reached\n",
      "    if flag:\n",
      "UnboundLocalError: local variable 'flag' referenced before assignment\n",
      "\n"
     ]
    },
    {
     "name": "stdout",
     "output_type": "stream",
     "text": [
      "Reached Target\n",
      "Reached Target\n",
      "Reached Target\n"
     ]
    },
    {
     "name": "stderr",
     "output_type": "stream",
     "text": [
      "[ERROR] [1716888759.251819, 2289.536000]: bad callback: <bound method Visualiser.callback_reached of <__main__.Visualiser object at 0xffff48294df0>>\n",
      "Traceback (most recent call last):\n",
      "  File \"/opt/ros/noetic/lib/python3/dist-packages/rospy/topics.py\", line 750, in _invoke_callback\n",
      "    cb(msg)\n",
      "  File \"/tmp/ipykernel_29849/1889992548.py\", line 48, in callback_reached\n",
      "    if flag:\n",
      "UnboundLocalError: local variable 'flag' referenced before assignment\n",
      "\n",
      "[ERROR] [1716888759.253785, 2289.539000]: bad callback: <bound method Visualiser.callback_reached of <__main__.Visualiser object at 0xffff48139b20>>\n",
      "Traceback (most recent call last):\n",
      "  File \"/opt/ros/noetic/lib/python3/dist-packages/rospy/topics.py\", line 750, in _invoke_callback\n",
      "    cb(msg)\n",
      "  File \"/tmp/ipykernel_29849/3932557714.py\", line 48, in callback_reached\n",
      "    if flag:\n",
      "UnboundLocalError: local variable 'flag' referenced before assignment\n",
      "\n"
     ]
    },
    {
     "name": "stdout",
     "output_type": "stream",
     "text": [
      "Reached Target\n",
      "Reached Target\n",
      "Reached Target\n"
     ]
    },
    {
     "name": "stderr",
     "output_type": "stream",
     "text": [
      "[ERROR] [1716888759.477528, 2289.730000]: bad callback: <bound method Visualiser.callback_reached of <__main__.Visualiser object at 0xffff48294df0>>\n",
      "Traceback (most recent call last):\n",
      "  File \"/opt/ros/noetic/lib/python3/dist-packages/rospy/topics.py\", line 750, in _invoke_callback\n",
      "    cb(msg)\n",
      "  File \"/tmp/ipykernel_29849/1889992548.py\", line 48, in callback_reached\n",
      "    if flag:\n",
      "UnboundLocalError: local variable 'flag' referenced before assignment\n",
      "\n",
      "[ERROR] [1716888759.479546, 2289.733000]: bad callback: <bound method Visualiser.callback_reached of <__main__.Visualiser object at 0xffff48139b20>>\n",
      "Traceback (most recent call last):\n",
      "  File \"/opt/ros/noetic/lib/python3/dist-packages/rospy/topics.py\", line 750, in _invoke_callback\n",
      "    cb(msg)\n",
      "  File \"/tmp/ipykernel_29849/3932557714.py\", line 48, in callback_reached\n",
      "    if flag:\n",
      "UnboundLocalError: local variable 'flag' referenced before assignment\n",
      "\n"
     ]
    },
    {
     "name": "stdout",
     "output_type": "stream",
     "text": [
      "Reached Target\n",
      "Reached Target\n",
      "Reached Target\n"
     ]
    },
    {
     "name": "stderr",
     "output_type": "stream",
     "text": [
      "[ERROR] [1716888759.705758, 2289.932000]: bad callback: <bound method Visualiser.callback_reached of <__main__.Visualiser object at 0xffff48294df0>>\n",
      "Traceback (most recent call last):\n",
      "  File \"/opt/ros/noetic/lib/python3/dist-packages/rospy/topics.py\", line 750, in _invoke_callback\n",
      "    cb(msg)\n",
      "  File \"/tmp/ipykernel_29849/1889992548.py\", line 48, in callback_reached\n",
      "    if flag:\n",
      "UnboundLocalError: local variable 'flag' referenced before assignment\n",
      "\n",
      "[ERROR] [1716888759.708501, 2289.932000]: bad callback: <bound method Visualiser.callback_reached of <__main__.Visualiser object at 0xffff48139b20>>\n",
      "Traceback (most recent call last):\n",
      "  File \"/opt/ros/noetic/lib/python3/dist-packages/rospy/topics.py\", line 750, in _invoke_callback\n",
      "    cb(msg)\n",
      "  File \"/tmp/ipykernel_29849/3932557714.py\", line 48, in callback_reached\n",
      "    if flag:\n",
      "UnboundLocalError: local variable 'flag' referenced before assignment\n",
      "\n"
     ]
    }
   ],
   "source": [
    "rospy.init_node('jupyter_node', anonymous=True)\n",
    "\n",
    "\n",
    "\n"
   ]
  },
  {
   "cell_type": "markdown",
   "id": "ea4c27f7-019d-4e86-9f24-01cf217cc53c",
   "metadata": {},
   "source": [
    "### Publisher"
   ]
  },
  {
   "cell_type": "code",
   "execution_count": 4,
   "id": "0663151a-f5e7-4431-846b-05ca56fca8c1",
   "metadata": {
    "execution": {
     "iopub.execute_input": "2024-05-28T09:21:21.822075Z",
     "iopub.status.busy": "2024-05-28T09:21:21.821931Z",
     "iopub.status.idle": "2024-05-28T09:21:21.871904Z",
     "shell.execute_reply": "2024-05-28T09:21:21.871320Z",
     "shell.execute_reply.started": "2024-05-28T09:21:21.822064Z"
    }
   },
   "outputs": [],
   "source": [
    "action_client = actionlib.SimpleActionClient('/reaching_goal', assignment_2_2023.msg.PlanningAction)\n",
    "goal_pub = rospy.Publisher('/goal_topic', Goal, queue_size = 10)\n",
    "goal_msg = Goal()\n",
    "goal = assignment_2_2023.msg.PlanningGoal()"
   ]
  },
  {
   "cell_type": "markdown",
   "id": "59048baf-be29-4430-97ad-7836862e9238",
   "metadata": {},
   "source": [
    "### Widgets callbacks"
   ]
  },
  {
   "cell_type": "code",
   "execution_count": 5,
   "id": "f21ca901-148d-4a24-a795-7ee60c038177",
   "metadata": {
    "execution": {
     "iopub.execute_input": "2024-05-28T09:21:21.875385Z",
     "iopub.status.busy": "2024-05-28T09:21:21.874167Z",
     "iopub.status.idle": "2024-05-28T09:21:21.881966Z",
     "shell.execute_reply": "2024-05-28T09:21:21.881273Z",
     "shell.execute_reply.started": "2024-05-28T09:21:21.875367Z"
    }
   },
   "outputs": [],
   "source": [
    "# Define the callback function\n",
    "def on_button_clicked(b):\n",
    "    with output:\n",
    "        clear_output()\n",
    "        #set new target position\n",
    "        goal.target_pose.pose.position.x = float_text1.value\n",
    "        goal.target_pose.pose.position.y = float_text2.value\n",
    "        action_client.send_goal(goal)\n",
    "        goal_list[0]+=1\n",
    "        print(float_text1.value,float_text2.value)\n",
    "        vis.update_goal_position(float_text1.value, float_text2.value)\n",
    "\n",
    "def on_cancel_button_clicked(b):\n",
    "    with output:\n",
    "        clear_output()\n",
    "        action_client.cancel_goal()\n",
    "        print(\"Goal canceled\")"
   ]
  },
  {
   "cell_type": "markdown",
   "id": "d4d4e1dc",
   "metadata": {},
   "source": [
    "### Widgets initialization"
   ]
  },
  {
   "cell_type": "code",
   "execution_count": 6,
   "id": "73b7e02b-4876-4da9-ae26-c2fe26bbd4f0",
   "metadata": {
    "execution": {
     "iopub.execute_input": "2024-05-28T09:21:21.895185Z",
     "iopub.status.busy": "2024-05-28T09:21:21.891063Z",
     "iopub.status.idle": "2024-05-28T09:21:22.006742Z",
     "shell.execute_reply": "2024-05-28T09:21:22.001787Z",
     "shell.execute_reply.started": "2024-05-28T09:21:21.895168Z"
    }
   },
   "outputs": [],
   "source": [
    "\n",
    "# Create the first FloatText widget\n",
    "float_text1 = widgets.FloatText(\n",
    "    value=3,\n",
    "    description='X:',\n",
    ")\n",
    "\n",
    "# Create the second FloatText widget\n",
    "float_text2 = widgets.FloatText(\n",
    "    value=4,\n",
    "    description='Y:',\n",
    ")\n",
    "\n",
    "# Create the button widget\n",
    "button = widgets.Button(\n",
    "    description='Send goal position',\n",
    "    layout=widgets.Layout(width='12%', height='60px', align_items='center'),\n",
    "    style=widgets.ButtonStyle(button_color='lightblue')\n",
    ")\n",
    "\n",
    "cancel_button = widgets.Button(\n",
    "    description='Cancel goal',\n",
    "    layout=Layout(width='10%', height='60px',align=\"center\", grid_area='b1'),\n",
    "    style=ButtonStyle(button_color='lightblue'))\n",
    "\n",
    "float_texts = widgets.VBox([float_text1, float_text2])\n",
    "set_goal = widgets.HBox([float_texts, button,cancel_button])\n"
   ]
  },
  {
   "cell_type": "markdown",
   "id": "e8e18e38-6fcb-4e70-ae3a-3adff949ebe6",
   "metadata": {},
   "source": [
    "### Set callbacks for buttons"
   ]
  },
  {
   "cell_type": "code",
   "execution_count": 7,
   "id": "5bd3f886-6241-4040-addb-6a081e69ba6e",
   "metadata": {
    "execution": {
     "iopub.execute_input": "2024-05-28T09:21:22.008095Z",
     "iopub.status.busy": "2024-05-28T09:21:22.007403Z",
     "iopub.status.idle": "2024-05-28T09:21:22.018097Z",
     "shell.execute_reply": "2024-05-28T09:21:22.017444Z",
     "shell.execute_reply.started": "2024-05-28T09:21:22.008080Z"
    }
   },
   "outputs": [],
   "source": [
    "# Create the output widget\n",
    "output = widgets.Output()\n",
    "\n",
    "# Register the callback function with the button\n",
    "button.on_click(on_button_clicked)\n",
    "cancel_button.on_click(on_cancel_button_clicked)\n"
   ]
  },
  {
   "cell_type": "markdown",
   "id": "3f903172-2deb-4edd-a58e-7dae253c1662",
   "metadata": {},
   "source": [
    "### Liveplot"
   ]
  },
  {
   "cell_type": "code",
   "execution_count": 33,
   "id": "58c81586-e0c5-4e56-8e23-930634eee89f",
   "metadata": {
    "execution": {
     "iopub.execute_input": "2024-05-28T09:32:18.953975Z",
     "iopub.status.busy": "2024-05-28T09:32:18.952800Z",
     "iopub.status.idle": "2024-05-28T09:32:18.980485Z",
     "shell.execute_reply": "2024-05-28T09:32:18.972614Z",
     "shell.execute_reply.started": "2024-05-28T09:32:18.953958Z"
    }
   },
   "outputs": [],
   "source": [
    "class Visualiser:\n",
    "    def __init__(self):\n",
    "        self.fig, (self.ax, self.ax_bar) = plt.subplots(1, 2, figsize=(10, 5))\n",
    "        self.ln, = self.ax.plot([], [], 'ro', label='Position')\n",
    "        self.goal_ln, = self.ax.plot([], [], 'bx', label='Goal')  # Goal plot as 'x'\n",
    "        self.bar_ln = None\n",
    "        self.x_pos, self.y_pos = [], []\n",
    "        self.x_goal, self.y_goal = 0, 0\n",
    "        self.goal_list = [0, 0]  # Initialize with some default values\n",
    "        self.plot_init()\n",
    "\n",
    "    def plot_init(self):\n",
    "        self.ax.set_xlim(-10, 10)\n",
    "        self.ax.set_ylim(-10, 10)\n",
    "        self.ax.legend()\n",
    "        \n",
    "        self.ax_bar.set_ylim(0, max(self.goal_list) + 1)\n",
    "        self.bar_ln = self.ax_bar.bar(['Not Reached', 'Reached'], self.goal_list, color=['red', 'green'])\n",
    "        \n",
    "        return self.ln, self.goal_ln, self.bar_ln\n",
    "\n",
    "    def position_callback(self, pos_msg):\n",
    "        self.y_pos.append(pos_msg.y)\n",
    "        self.x_pos.append(pos_msg.x)\n",
    "\n",
    "    def update_plot(self, frame):\n",
    "        self.ln.set_data(self.x_pos, self.y_pos)\n",
    "        self.goal_ln.set_data([self.x_goal], [self.y_goal])\n",
    "        \n",
    "        for bar, height in zip(self.bar_ln, self.goal_list):\n",
    "            bar.set_height(height)\n",
    "        \n",
    "        return self.ln, self.goal_ln, self.bar_ln\n",
    "\n",
    "    def update_goal_position(self, x, y):\n",
    "        self.x_goal = x\n",
    "        self.y_goal = y\n",
    "        self.goal_ln.set_data([self.x_goal], [self.y_goal])\n",
    "\n",
    "    def callback_reached(self, data):\n",
    "        if len(data.status_list) != 0:\n",
    "            temp = data.status_list[0]\n",
    "            temp2 = str(temp)\n",
    "            temp3 = temp2.split(\"\\\"\")\n",
    "            temp4 = temp3[2].split()\n",
    "            if temp4[1] == '3':\n",
    "                print(\"Reached Target\")\n",
    "                if flag:\n",
    "                    self.goal_list[0] -= 1\n",
    "                    self.goal_list[1] += 1\n",
    "                    self.update_second_plot\n",
    "                    flag = False\n",
    "            elif temp4[1] == '1':\n",
    "                flag = True\n",
    "                \n",
    "     def update_second_plot(self):\n",
    "        self.bar[0].set_height(goal_list[0])\n",
    "        self.bar[1].set_height(goal_list[1])"
   ]
  },
  {
   "cell_type": "code",
   "execution_count": 30,
   "id": "549504f3-4410-4bb7-bc9c-361632b57608",
   "metadata": {
    "execution": {
     "iopub.execute_input": "2024-05-28T09:30:33.902140Z",
     "iopub.status.busy": "2024-05-28T09:30:33.901571Z",
     "iopub.status.idle": "2024-05-28T09:30:33.926328Z",
     "shell.execute_reply": "2024-05-28T09:30:33.924126Z",
     "shell.execute_reply.started": "2024-05-28T09:30:33.902119Z"
    }
   },
   "outputs": [],
   "source": [
    "# def callback_reached(data):\n",
    "#     # print(\"reached called\")\n",
    "#     if(len(data.status_list)!=0):\n",
    "#         global flag\n",
    "#         temp=data.status_list[0]\n",
    "#         temp2=str(temp)\n",
    "#         temp3 = temp2.split(\"\\\"\")\n",
    "#         temp4 = temp3[2].split()\n",
    "#         if(temp4[1]=='3'):\n",
    "#             print(\"Reached Target\")\n",
    "            \n",
    "#             if flag:\n",
    "#                 global goal_list  # Declare goal_list as global\n",
    "#                 goal_list[0] -= 1\n",
    "#                 goal_list[1] += 1\n",
    "#                 flag = False\n",
    "#         elif(temp4[1]=='1'):\n",
    "#             flag = True\n",
    "    \n"
   ]
  },
  {
   "cell_type": "markdown",
   "id": "6aabe9e8-3a24-49af-b93d-c4da1258de3e",
   "metadata": {},
   "source": [
    "### Main function"
   ]
  },
  {
   "cell_type": "code",
   "execution_count": 34,
   "id": "fb19196e-905b-421e-9c06-97ecb97dd4cc",
   "metadata": {
    "execution": {
     "iopub.execute_input": "2024-05-28T09:32:22.909072Z",
     "iopub.status.busy": "2024-05-28T09:32:22.903460Z",
     "iopub.status.idle": "2024-05-28T09:32:23.416153Z",
     "shell.execute_reply": "2024-05-28T09:32:23.414827Z",
     "shell.execute_reply.started": "2024-05-28T09:32:22.908086Z"
    }
   },
   "outputs": [
    {
     "data": {
      "application/vnd.jupyter.widget-view+json": {
       "model_id": "d8bdc2e877024644b5891152b9b07a1d",
       "version_major": 2,
       "version_minor": 0
      },
      "text/plain": [
       "HBox(children=(VBox(children=(FloatText(value=0.0, description='X:'), FloatText(value=4.0, description='Y:')))…"
      ]
     },
     "metadata": {},
     "output_type": "display_data"
    },
    {
     "data": {
      "application/vnd.jupyter.widget-view+json": {
       "model_id": "6f76179a1e464559b34ddac68bbfa5bf",
       "version_major": 2,
       "version_minor": 0
      },
      "text/plain": [
       "Output(outputs=({'name': 'stdout', 'text': '0.0 4.0\\n', 'output_type': 'stream'},))"
      ]
     },
     "metadata": {},
     "output_type": "display_data"
    },
    {
     "data": {
      "application/vnd.jupyter.widget-view+json": {
       "model_id": "562a7cb653cd483b97ac97a235bbeef1",
       "version_major": 2,
       "version_minor": 0
      },
      "image/png": "[encoded data removed]",
      "text/html": [
       "\n",
       "            <div style=\"display: inline-block;\">\n",
       "                <div class=\"jupyter-widgets widget-label\" style=\"text-align: center;\">\n",
       "                    Figure\n",
       "                </div>\n",
       "                <img src='data:image/png;base64,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' width=1000.0/>\n",
       "            </div>\n",
       "        "
      ],
      "text/plain": [
       "Canvas(toolbar=Toolbar(toolitems=[('Home', 'Reset original view', 'home', 'home'), ('Back', 'Back to previous …"
      ]
     },
     "metadata": {},
     "output_type": "display_data"
    }
   ],
   "source": [
    "\n",
    "vis = Visualiser()\n",
    "sub = rospy.Subscriber('/position', Position, vis.position_callback,queue_size = 10)\n",
    "sub2 = rospy.Subscriber('/reaching_goal/status', GoalStatusArray, vis.callback_reached)\n",
    "# sub2 = rospy.Subscriber('/reaching_goal/status',String, vis.callback_reached)\n",
    "\n",
    "\n",
    "display(set_goal, output)\n",
    "ani = FuncAnimation(vis.fig, vis.update_plot, init_func=vis.plot_init, save_count=20)\n",
    "plt.show(block=True)"
   ]
  },
  {
   "cell_type": "code",
   "execution_count": 32,
   "id": "88cdbf7e-957d-448d-aa84-fad1d1b60677",
   "metadata": {
    "execution": {
     "iopub.execute_input": "2024-05-28T09:30:46.144913Z",
     "iopub.status.busy": "2024-05-28T09:30:46.142285Z",
     "iopub.status.idle": "2024-05-28T09:30:46.154307Z",
     "shell.execute_reply": "2024-05-28T09:30:46.153789Z",
     "shell.execute_reply.started": "2024-05-28T09:30:46.144887Z"
    }
   },
   "outputs": [
    {
     "name": "stdout",
     "output_type": "stream",
     "text": [
      "[1, 2]\n"
     ]
    }
   ],
   "source": [
    "print(goal_list)"
   ]
  },
  {
   "cell_type": "code",
   "execution_count": null,
   "id": "c55c19e7-c16a-418f-81b4-ec427303311e",
   "metadata": {},
   "outputs": [],
   "source": []
  },
  {
   "cell_type": "code",
   "execution_count": 23,
   "id": "d2210d56-11f9-44dc-ba52-0e680898ddf3",
   "metadata": {
    "execution": {
     "iopub.execute_input": "2024-05-28T09:22:14.963591Z",
     "iopub.status.busy": "2024-05-28T09:22:14.962062Z",
     "iopub.status.idle": "2024-05-28T09:22:14.977010Z",
     "shell.execute_reply": "2024-05-28T09:22:14.975717Z",
     "shell.execute_reply.started": "2024-05-28T09:22:14.963568Z"
    }
   },
   "outputs": [
    {
     "name": "stdout",
     "output_type": "stream",
     "text": [
      "[2, 1]\n"
     ]
    }
   ],
   "source": [
    "print(goal_list)"
   ]
  },
  {
   "cell_type": "code",
   "execution_count": 24,
   "id": "90aefb4f-12a9-4250-a994-4ef3ee7e3039",
   "metadata": {
    "execution": {
     "iopub.execute_input": "2024-05-28T09:22:15.606637Z",
     "iopub.status.busy": "2024-05-28T09:22:15.604521Z",
     "iopub.status.idle": "2024-05-28T09:22:15.619186Z",
     "shell.execute_reply": "2024-05-28T09:22:15.616504Z",
     "shell.execute_reply.started": "2024-05-28T09:22:15.606251Z"
    }
   },
   "outputs": [
    {
     "name": "stdout",
     "output_type": "stream",
     "text": [
      "[2, 1]\n"
     ]
    }
   ],
   "source": [
    "print(goal_list)"
   ]
  },
  {
   "cell_type": "code",
   "execution_count": 25,
   "id": "a3e8c487-04a5-4120-bf71-578128fe841a",
   "metadata": {
    "execution": {
     "iopub.execute_input": "2024-05-28T09:22:17.244849Z",
     "iopub.status.busy": "2024-05-28T09:22:17.242958Z",
     "iopub.status.idle": "2024-05-28T09:22:17.254112Z",
     "shell.execute_reply": "2024-05-28T09:22:17.247135Z",
     "shell.execute_reply.started": "2024-05-28T09:22:17.244826Z"
    }
   },
   "outputs": [
    {
     "name": "stdout",
     "output_type": "stream",
     "text": [
      "[2, 1]\n"
     ]
    }
   ],
   "source": [
    "print(goal_list)"
   ]
  },
  {
   "cell_type": "code",
   "execution_count": 26,
   "id": "992e0359-ab82-4f22-aaf9-cbf4e9aad528",
   "metadata": {
    "execution": {
     "iopub.execute_input": "2024-05-28T09:22:19.893721Z",
     "iopub.status.busy": "2024-05-28T09:22:19.893251Z",
     "iopub.status.idle": "2024-05-28T09:22:19.914602Z",
     "shell.execute_reply": "2024-05-28T09:22:19.905690Z",
     "shell.execute_reply.started": "2024-05-28T09:22:19.893706Z"
    }
   },
   "outputs": [
    {
     "name": "stdout",
     "output_type": "stream",
     "text": [
      "[2, 1]\n"
     ]
    }
   ],
   "source": [
    "print(goal_list)"
   ]
  },
  {
   "cell_type": "code",
   "execution_count": 27,
   "id": "b5a170ca-8eaa-43b2-af1d-2efbe24109a0",
   "metadata": {
    "execution": {
     "iopub.execute_input": "2024-05-28T09:22:21.771027Z",
     "iopub.status.busy": "2024-05-28T09:22:21.764567Z",
     "iopub.status.idle": "2024-05-28T09:22:21.788036Z",
     "shell.execute_reply": "2024-05-28T09:22:21.786679Z",
     "shell.execute_reply.started": "2024-05-28T09:22:21.770999Z"
    }
   },
   "outputs": [
    {
     "name": "stdout",
     "output_type": "stream",
     "text": [
      "[1, 2]\n"
     ]
    }
   ],
   "source": [
    "print(goal_list)"
   ]
  },
  {
   "cell_type": "markdown",
   "id": "81ccbaec-8365-48f0-b7d3-0cb0b11c6c36",
   "metadata": {
    "execution": {
     "iopub.execute_input": "2024-05-27T17:49:43.592189Z",
     "iopub.status.busy": "2024-05-27T17:49:43.591955Z",
     "iopub.status.idle": "2024-05-27T17:49:43.646825Z",
     "shell.execute_reply": "2024-05-27T17:49:43.643920Z",
     "shell.execute_reply.started": "2024-05-27T17:49:43.592174Z"
    }
   },
   "source": [
    "### User interface"
   ]
  },
  {
   "cell_type": "code",
   "execution_count": 17,
   "id": "7da3a173-48c2-436b-8ab8-f82124c89edf",
   "metadata": {
    "execution": {
     "iopub.execute_input": "2024-05-28T09:21:22.660898Z",
     "iopub.status.busy": "2024-05-28T09:21:22.659771Z",
     "iopub.status.idle": "2024-05-28T09:21:22.667536Z",
     "shell.execute_reply": "2024-05-28T09:21:22.666328Z",
     "shell.execute_reply.started": "2024-05-28T09:21:22.660852Z"
    }
   },
   "outputs": [],
   "source": [
    "  # def update_display(self, status):\n",
    "    #     clear_output()\n",
    "    #     if status == GoalStatus.SUCCEEDED:\n",
    "    #         print(\"Reached Target\")\n",
    "    #         display(set_goal, output)\n",
    "    #     elif status in [GoalStatus.ACTIVE, GoalStatus.PENDING]:\n",
    "    #         print(\"Goal is active\")\n",
    "    #         display(cancel_button, output)\n",
    "    #     else:\n",
    "    #         display(set_goal, output)\n",
    "\n",
    "\n",
    "    # def callback_goal(self, data):\n",
    "    #     print(\"called\")\n",
    "        # # Process the status of the goal\n",
    "        # if len(data.status_list) != 0:\n",
    "        #     goal_status = data.status_list[-1]  # Get the most recent goal status\n",
    "        #     status = goal_status.status\n",
    "        #     self.update_display(status)\n",
    "        # else:\n",
    "        #     self.update_display(None)"
   ]
  },
  {
   "cell_type": "code",
   "execution_count": 18,
   "id": "a9fbe3f5-9537-4267-9ecd-a0987efd89ae",
   "metadata": {
    "execution": {
     "iopub.execute_input": "2024-05-28T09:21:22.674951Z",
     "iopub.status.busy": "2024-05-28T09:21:22.673315Z",
     "iopub.status.idle": "2024-05-28T09:21:22.680351Z",
     "shell.execute_reply": "2024-05-28T09:21:22.677171Z",
     "shell.execute_reply.started": "2024-05-28T09:21:22.674926Z"
    }
   },
   "outputs": [],
   "source": [
    "\n",
    "# sub2 = rospy.Subscriber('/reaching_goal/status',String, vis.callback_goal)\n",
    "# sub2 = rospy.Subscriber('/reaching_goal/status', GoalStatusArray, vis.callback_goal,queue_size = 10)\n",
    "# sub2 = rospy.Subscriber('/goal_topic', Goal, vis.goal_callback)"
   ]
  },
  {
   "cell_type": "code",
   "execution_count": null,
   "id": "fe7cf40b-2ddf-4c5d-b9eb-f8f06d6f4a60",
   "metadata": {},
   "outputs": [],
   "source": []
  }
 ],
 "metadata": {
  "kernelspec": {
   "display_name": "Python 3 (ipykernel)",
   "language": "python",
   "name": "python3"
  },
  "language_info": {
   "codemirror_mode": {
    "name": "ipython",
    "version": 3
   },
   "file_extension": ".py",
   "mimetype": "text/x-python",
   "name": "python",
   "nbconvert_exporter": "python",
   "pygments_lexer": "ipython3",
   "version": "3.8.10"
  }
 },
 "nbformat": 4,
 "nbformat_minor": 5
}
