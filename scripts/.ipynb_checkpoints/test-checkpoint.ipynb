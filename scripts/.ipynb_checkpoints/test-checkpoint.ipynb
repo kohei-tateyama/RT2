{
 "cells": [
  {
   "cell_type": "code",
   "execution_count": null,
   "id": "024835fe-7e49-4624-87f9-02e6f6c19be1",
   "metadata": {},
   "outputs": [],
   "source": [
    "import ipywidgets as widgets\n",
    "from IPython.display import display\n",
    "\n",
    "# Define a simple callback function\n",
    "def on_button_clicked(b):\n",
    "    print(\"Button clicked!\")\n",
    "\n",
    "# Create the button widget\n",
    "button = widgets.Button(\n",
    "    description='Click me',\n",
    "    layout=widgets.Layout(width='200px', height='60px'),\n",
    "    style=widgets.ButtonStyle(button_color='lightblue')\n",
    ")\n",
    "\n",
    "# Register the callback function with the button\n",
    "button.on_click(on_button_clicked)\n",
    "\n",
    "# Display the button\n",
    "display(button)\n"
   ]
  },
  {
   "cell_type": "code",
   "execution_count": null,
   "id": "cf52bf32-66a3-4b21-9530-f5745ec013ae",
   "metadata": {},
   "outputs": [],
   "source": []
  }
 ],
 "metadata": {
  "kernelspec": {
   "display_name": "Python 3 (ipykernel)",
   "language": "python",
   "name": "python3"
  },
  "language_info": {
   "codemirror_mode": {
    "name": "ipython",
    "version": 3
   },
   "file_extension": ".py",
   "mimetype": "text/x-python",
   "name": "python",
   "nbconvert_exporter": "python",
   "pygments_lexer": "ipython3",
   "version": "3.8.10"
  }
 },
 "nbformat": 4,
 "nbformat_minor": 5
}
